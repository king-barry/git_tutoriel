{
 "cells": [
  {
   "cell_type": "markdown",
   "id": "ea69e5e3",
   "metadata": {},
   "source": [
    "## Quelques notes sur Git\n",
    "- git status : permettre de connaitre le status des fichiers/dossiers (nouveaux ou pas) depuis le dernier commit\n",
    "- git add . : Ajouter des fichiers & dernières modif à notre repo Git\n",
    "- git commit -m \"message\" : Ajouter les dernières modif au repository centrale\n",
    "- git log : permet de voir l'historique des \"commit\" précédents\n",
    "- git commit --amend : permet de modifier le message d'un \"commit\" passé\n"
   ]
  }
 ],
 "metadata": {
  "language_info": {
   "name": "python"
  }
 },
 "nbformat": 4,
 "nbformat_minor": 5
}
