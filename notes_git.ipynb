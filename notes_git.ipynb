{
 "cells": [
  {
   "cell_type": "markdown",
   "id": "ea69e5e3",
   "metadata": {},
   "source": [
    "## Quelques notes sur Git\n",
    "- *git status*: permettre de connaitre le status des fichiers/dossiers (nouveaux ou pas) depuis le dernier commit\n",
    "- *git add .*: Ajouter des fichiers & dernières modif à notre repo Git\n",
    "- *git commit -m \"message\"* : Ajouter les dernières modif au repository centrale\n",
    "- *git log [--oneline | --graph | --nombre]* : permet de voir l'historique des \"commit\" précédents\n",
    "- *git commit --amend* : permet de modifier le message d'un \"commit\" passé\n",
    "- *git rm file.ext* : permet de supprimer un fichier du repository\n",
    "- *git mv test2.sql test_2.sql* : renomer le fichier test2.sql en test_2.sql\n",
    "- *Le fichier \".gitignore\"* : permet d'ignorer certains fichiers/dossier\n",
    "- *git diff file.ext* : permet la différence entre le fichier dans le repo en remote et sa version locale (voir les modif non commitées)\n",
    "- *git checkout -b feature/change_pass_variable* : permet de créer la branche \"feature/change_pass_variable\" et d'y switcher`\n",
    "- Après des modifs dans une branche b, il faut revenir dans \"master/main\" et faire \"git merge b\"\n",
    "- git stash : permet de sauvegarder temporairement l'état \"Statging\" d'une branche afin de pouvoir passer une autre branche :\n",
    "    - Sans faire du commit de l'actuelle branche (car par exemple, on a pas encore fini les modifs)\n",
    "    - Travailler (sur une autre fonctionnalité) dans une autre branche\n",
    "    - git stash apply : applique ce qui est \"stashé\" dans une autre branche, dans la branche actuelle"
   ]
  }
 ],
 "metadata": {
  "language_info": {
   "name": "python"
  }
 },
 "nbformat": 4,
 "nbformat_minor": 5
}
