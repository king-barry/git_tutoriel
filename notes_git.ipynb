{
 "cells": [
  {
   "cell_type": "markdown",
   "id": "ea69e5e3",
   "metadata": {},
   "source": [
    "## Quelques notes sur Git\n",
    "- *git status*: permettre de connaitre le status des fichiers/dossiers (nouveaux ou pas) depuis le dernier commit\n",
    "- *git add .*: Ajouter des fichiers & dernières modif à notre repo Git\n",
    "- *git commit -m \"message\"* : Ajouter les dernières modif au repository centrale\n",
    "- *git log [--oneline | --graph | --nombre]* : permet de voir l'historique des \"commit\" précédents\n",
    "- *git commit --amend* : permet de modifier le message d'un \"commit\" passé\n",
    "- *git rm file.ext* : permet de supprimer un fichier du repository\n",
    "- *git mv test2.sql test_2.sql* : renomer le fichier test2.sql en test_2.sql\n",
    "- *Le fichier \".gitignore\"* : permet d'ignorer certains fichiers/dossier\n",
    "- *git diff file.ext* : permet la différence entre le fichier dans le repo en remote et sa version locale (voir les modif non commitées)\n",
    "- *git checkout -b feature/change_pass_variable* : permet de créer la branche \"feature/change_pass_variable\" et d'y switcher`"
   ]
  }
 ],
 "metadata": {
  "language_info": {
   "name": "python"
  }
 },
 "nbformat": 4,
 "nbformat_minor": 5
}
